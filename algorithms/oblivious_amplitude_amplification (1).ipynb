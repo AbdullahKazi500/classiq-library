{
  "cells": [
    {
      "cell_type": "markdown",
      "id": "1c0c0a1e-39b8-46f8-b215-43897548dead",
      "metadata": {
        "id": "1c0c0a1e-39b8-46f8-b215-43897548dead"
      },
      "source": [
        "# Oblivious Amplitude Amplification"
      ]
    },
    {
      "cell_type": "markdown",
      "id": "1098ddd2-2ed0-48c1-a27a-d96e0380e85c",
      "metadata": {
        "id": "1098ddd2-2ed0-48c1-a27a-d96e0380e85c"
      },
      "source": [
        "This demo explains the Oblivious Amplitude Amplification algorithm (OAA) [[2](#OAA)], which can be used as a building block in algorithms such as Hamiltonian simulations. We start with a short recap, then show how to use it in conjunction with the Linear Combination of Unitaries (LCU) algorithm."
      ]
    },
    {
      "cell_type": "markdown",
      "id": "19a51ed6-947f-4697-b255-52aa459b21e4",
      "metadata": {
        "id": "19a51ed6-947f-4697-b255-52aa459b21e4"
      },
      "source": [
        "### Problem formulation\n",
        "\n",
        "* **Input:** A $(s, l, 0)$-block-encoding $W$ of a matrix $U$.\n",
        "\n",
        "* **Promise:**  $U$ is unitary (or close to unitary).\n",
        "\n",
        "* **Output:** A $(1, l, 0)$-block-encoding of $U$.\n"
      ]
    },
    {
      "cell_type": "markdown",
      "id": "20528c61-fcc0-4060-9c62-dcf5833cc078",
      "metadata": {
        "id": "20528c61-fcc0-4060-9c62-dcf5833cc078"
      },
      "source": [
        "## Background"
      ]
    },
    {
      "cell_type": "markdown",
      "id": "5a454632-6a75-4754-9efe-9d31fbd0a90f",
      "metadata": {
        "id": "5a454632-6a75-4754-9efe-9d31fbd0a90f"
      },
      "source": [
        "### Recap: Amplitude Amplification"
      ]
    },
    {
      "cell_type": "markdown",
      "id": "38c674ef-ffb6-480e-9ee1-4c09773316e8",
      "metadata": {
        "id": "38c674ef-ffb6-480e-9ee1-4c09773316e8"
      },
      "source": [
        "Ref. [[1](#AA)] shows how to use the Grover operator to amplify a specific state. In detail, given a unitary $A$ to prepare a state $|\\psi\\rangle$:\n",
        "$$\n",
        "A|0\\rangle = |\\psi\\rangle = a|\\psi_0\\rangle + \\sqrt{1-a^2}|\\psi_1\\rangle\n",
        "$$\n",
        "and a unitary $R_{\\psi_1}$ to implement a reflection over the state $\\psi_1$. We want to decrease the amplitude of $R_{\\psi_1}$:\n",
        "$$\n",
        "R_{\\psi_1}(a|\\psi_0\\rangle + \\sqrt{1-a^2}|\\psi_1\\rangle) = a|\\psi+0\\rangle - \\sqrt{1-a^2}|\\psi_1\\rangle\n",
        "$$\n",
        "where $|\\psi_0\\rangle$, $|\\psi_1\\rangle$ define a two-dimensional subspace where the applications of the Grover operator are effectively rotations. To do that we also need to do a reflection about the initial state $|\\psi\\rangle$:\n",
        "$$S_\\psi = AR_0A^{\\dagger}$$\n",
        "where $R_0$ is a reflection about the $|0\\rangle$ state.\n",
        "\n",
        "The rotations can be used to take the initial vector $|\\psi\\rangle$ closer to $|\\psi_0\\rangle$."
      ]
    },
    {
      "cell_type": "markdown",
      "id": "3be8569a-2121-4402-bcba-7c21eb09e288",
      "metadata": {
        "id": "3be8569a-2121-4402-bcba-7c21eb09e288"
      },
      "source": [
        "![image.png](attachment:548d6fdd-7a38-417b-af32-fc126fba29d6.png)"
      ]
    },
    {
      "cell_type": "markdown",
      "id": "27e16bc7-41fe-4702-aedf-ce3e080a9d84",
      "metadata": {
        "id": "27e16bc7-41fe-4702-aedf-ce3e080a9d84"
      },
      "source": [
        "### Why Do We Need Another Version of Amplitude Amplification?"
      ]
    },
    {
      "cell_type": "markdown",
      "id": "d1430ffc-605d-4c35-88db-107974e40850",
      "metadata": {
        "id": "d1430ffc-605d-4c35-88db-107974e40850"
      },
      "source": [
        "As you might have noticed, the amplification requires the \"recipe\" $A$ for the preparation of $\\psi$, and uses it to perform the reflection around the initial state.\n",
        "\n",
        "In certain scenarios, such as in Hamiltonian simulations, we might not be able to create the initial state or it is very inefficient. Specifically, we look at a $(s, l, 0)$-block-encoding $W$ of a matrix $U$:\n",
        "$$\n",
        "W|0^l\\rangle|\\psi\\rangle = \\frac{1}{s}|0^l\\rangle U|\\psi\\rangle + \\sqrt{1-\\frac{1}{s^2}}|\\phi\\rangle\n",
        "$$\n",
        "(For detailed explanations of block encodings and Hamiltonian simulations, see [this demo](https://github.com/Classiq/classiq-library/blob/main/tutorials/popular_usage_examples/hamiltonian_simulation/hamiltonian_simulation_with_block_encoding/hamiltonian_simulation_with_block_encoding.ipynb).)\n",
        "\n",
        "We want to amplify the amplitude of the state that is in the block, i.e., $|0^l\\rangle U|\\psi\\rangle$. This sometimes can be done in post-selection, but if we use $W$ more than once in the algorithm, then the amplitude to sample the \"good\" states exponentially decreases.\n",
        "\n",
        "It turns out, however, that if $U$ is unitary, then we can reflect about the initial state $W|0^l\\rangle|\\psi\\rangle$ for any $|\\psi\\rangle$ using the operator $WRW^\\dagger$ where $R=(I-2|0^l\\rangle\\langle0^l|\\otimes) I$, which is analogous to the reflection about the zero state. Then we get the same effective 2D picture! So, to get $|0^l\\rangle U |\\psi\\rangle$ with probability $\\thicksim 1$, roughly $\\thicksim s$ Grover iterations are needed."
      ]
    },
    {
      "cell_type": "markdown",
      "id": "4f38e71b-2644-4ad4-8770-08c0a5a1d84b",
      "metadata": {
        "id": "4f38e71b-2644-4ad4-8770-08c0a5a1d84b"
      },
      "source": [
        "![image.png](attachment:0e09e4ae-3710-427c-807e-4d615d8a9790.png)"
      ]
    },
    {
      "cell_type": "markdown",
      "id": "e0a9349e-d725-41c2-a582-34ec5ae7e2ed",
      "metadata": {
        "id": "e0a9349e-d725-41c2-a582-34ec5ae7e2ed"
      },
      "source": [
        "## Building the Algorithm with Classiq"
      ]
    },
    {
      "cell_type": "markdown",
      "id": "e48771bf-4208-412b-b12b-78f870b2cd2f",
      "metadata": {
        "id": "e48771bf-4208-412b-b12b-78f870b2cd2f"
      },
      "source": [
        "![image.png](attachment:ce6b44ad-a81b-44b6-9dbf-496885160a3e.png)"
      ]
    },
    {
      "cell_type": "markdown",
      "id": "68054735-8abb-4780-96d7-d13462b0e277",
      "metadata": {
        "id": "68054735-8abb-4780-96d7-d13462b0e277"
      },
      "source": [
        "### Example: Unitary LCU Amplification"
      ]
    },
    {
      "cell_type": "markdown",
      "id": "9237f40d-d9e6-4803-b18c-92eb64e97d5a",
      "metadata": {
        "id": "9237f40d-d9e6-4803-b18c-92eb64e97d5a"
      },
      "source": [
        "Here we take the matrix $A = H_0\\otimes H_1 = \\frac{X_0 + Z_0} {\\sqrt{2}} \\otimes \\frac{X_1 + Z_1} {\\sqrt{2}}$ and block encode it using LCU, creating the matrix $U_A$. In general, though LCU is a combination of unitaries, the result is not necessarily unitary. In this specific example, the matrix $A$ is unitary, and so the encoding can be amplified using oblivious amplitude amplification."
      ]
    },
    {
      "cell_type": "markdown",
      "id": "be963e76-0a5f-4c51-8dfc-2f4b8031ee0d",
      "metadata": {
        "id": "be963e76-0a5f-4c51-8dfc-2f4b8031ee0d"
      },
      "source": [
        "#### Block Encoding the Hamiltonian"
      ]
    },
    {
      "cell_type": "markdown",
      "id": "b6113504-bb6b-454f-b9d4-d52ddc473457",
      "metadata": {
        "id": "b6113504-bb6b-454f-b9d4-d52ddc473457"
      },
      "source": [
        "First show that the sampled state after the application of $U_A$ is in the wanted block only in $\\frac {1}{4}$ of the cases, meaning that in this case $s=2$.\n",
        "The input $|\\psi\\rangle$ to $U_A$ is a randomly sampled vector of normalized amplitudes."
      ]
    },
    {
      "cell_type": "code",
      "execution_count": null,
      "id": "fc9972c2-7986-4235-96ed-22edcd31c3d3",
      "metadata": {
        "id": "fc9972c2-7986-4235-96ed-22edcd31c3d3"
      },
      "outputs": [],
      "source": [
        "import numpy as np\n",
        "\n",
        "from classiq import *\n",
        "\n",
        "PAULI_LIST = [\n",
        "    [Pauli.Z, Pauli.X],\n",
        "    [Pauli.X, Pauli.Z],\n",
        "    [Pauli.X, Pauli.X],\n",
        "    [Pauli.Z, Pauli.Z],\n",
        "]\n",
        "\n",
        "\n",
        "@qfunc\n",
        "def apply_pauli_term(pauli_string: CArray[Pauli], x: QArray[QBit]):\n",
        "    repeat(\n",
        "        count=x.len,\n",
        "        iteration=lambda index: switch(\n",
        "            pauli_string[index],\n",
        "            [\n",
        "                lambda: IDENTITY(x[pauli_string.len - index - 1]),\n",
        "                lambda: X(x[pauli_string.len - index - 1]),\n",
        "                lambda: Y(x[pauli_string.len - index - 1]),\n",
        "                lambda: Z(x[pauli_string.len - index - 1]),\n",
        "            ],\n",
        "        ),\n",
        "    )\n",
        "\n",
        "\n",
        "@qfunc\n",
        "def block_encode(pauli_list: CArray[CArray[Pauli]], data: QArray[QBit], block: QNum):\n",
        "    within_apply(\n",
        "        lambda: hadamard_transform(block),\n",
        "        lambda: repeat(\n",
        "            count=pauli_list.len,\n",
        "            iteration=lambda i: control(\n",
        "                block == i, lambda: apply_pauli_term(pauli_list[i], data)\n",
        "            ),\n",
        "        ),\n",
        "    )\n",
        "\n",
        "\n",
        "@qfunc\n",
        "def main(data: Output[QNum], block: Output[QNum]):\n",
        "    allocate(2, block)\n",
        "\n",
        "    # initialize a random vector\n",
        "    np.random.seed(1)\n",
        "    amps = np.random.rand(4)\n",
        "    amps = (amps / np.linalg.norm(amps)).tolist()\n",
        "    prepare_amplitudes(amps, 0, data)\n",
        "\n",
        "    block_encode(PAULI_LIST, data, block)\n",
        "\n",
        "\n",
        "qmod = create_model(main)\n",
        "qprog = synthesize(qmod)\n",
        "result = execute(qprog).result_value()"
      ]
    },
    {
      "cell_type": "markdown",
      "id": "777b329a-ea69-4377-b833-a4b2c499b0de",
      "metadata": {
        "id": "777b329a-ea69-4377-b833-a4b2c499b0de"
      },
      "source": [
        "Print the \"good\" states:"
      ]
    },
    {
      "cell_type": "code",
      "execution_count": null,
      "id": "77469247-8383-4f8e-9058-7841b939e27d",
      "metadata": {
        "id": "77469247-8383-4f8e-9058-7841b939e27d",
        "outputId": "d951a312-820a-4346-a20b-35a472e98a80"
      },
      "outputs": [
        {
          "name": "stdout",
          "output_type": "stream",
          "text": [
            "state={'data': 0.0, 'block': 0.0} shots=331\n",
            "state={'data': 2.0, 'block': 0.0} shots=118\n",
            "state={'data': 1.0, 'block': 0.0} shots=56\n",
            "Fraction of `good` states: 0.24658203125\n"
          ]
        }
      ],
      "source": [
        "block_sum = sum([d.shots for d in result.parsed_counts if d.state[\"block\"] == 0])\n",
        "for d in result.parsed_counts:\n",
        "    if d.state[\"block\"] == 0:\n",
        "        print(d)\n",
        "print(\"Fraction of `good` states:\", block_sum / result.num_shots)"
      ]
    },
    {
      "cell_type": "markdown",
      "id": "6c587903-9243-4ac4-9fac-d1085fa58119",
      "metadata": {
        "id": "6c587903-9243-4ac4-9fac-d1085fa58119"
      },
      "source": [
        "#### Block Encoding Amplification"
      ]
    },
    {
      "cell_type": "markdown",
      "id": "f603fc57-1dfb-44f6-822d-e786d3e5f433",
      "metadata": {
        "id": "f603fc57-1dfb-44f6-822d-e786d3e5f433"
      },
      "source": [
        "Now we wrap $U_A$ with the oblivious amplitude amplification scheme. It is almost like regular grover, except that it does not take the initial state preparation to the grover operator. Also, the grover diffuser only works on the block qubits (we take advantage of the language [capturing](https://docs.classiq.io/latest/qmod-reference/language-reference/operators/?h=opera#capturing-context-variables-and-parameters) mechanism).\n",
        "\n",
        "The `block_oracle` ($R$ in the used notation) operates on the block qubits and checks that they are in the wanted block (i.e. equal to the state $|00\\rangle$). The $W$ operator is represented by the function `block_encoding`.\n",
        "\n",
        "As the original total amplitude of the \"good states\" is $\\frac{1}{2}$, exactly 1 grover iteration will amplify the amplitude to 1."
      ]
    },
    {
      "cell_type": "code",
      "execution_count": null,
      "id": "6ed2471a-8a8f-4a97-ab75-2c809f28877b",
      "metadata": {
        "id": "6ed2471a-8a8f-4a97-ab75-2c809f28877b",
        "outputId": "85424b47-87bb-4725-eb2b-8288467a21c6"
      },
      "outputs": [
        {
          "name": "stdout",
          "output_type": "stream",
          "text": [
            "Opening: https://pre-release.platform.classiq.io/circuit/155e0033-3fb2-468e-955f-f3f3403e94e4?version=0.45.1\n"
          ]
        }
      ],
      "source": [
        "@qfunc\n",
        "def block_oracle(var: QArray[QBit]):\n",
        "    block = QNum(\"block\", 2, False, 0)\n",
        "    data = QArray(\"data\")\n",
        "    bind(data, block)\n",
        "\n",
        "\n",
        "@qfunc\n",
        "def oblivious_amplitude_amplification(\n",
        "    reps: CInt,\n",
        "    block_encoding: QCallable[QNum, QArray[QBit]],\n",
        "    block: QNum,\n",
        "    data: QArray[QBit],\n",
        "):\n",
        "    @qfunc\n",
        "    def check_block(b: QNum, res: QBit):\n",
        "        res ^= b == 0\n",
        "\n",
        "    block_encoding(data, block)\n",
        "    repeat(\n",
        "        reps,\n",
        "        lambda index: grover_operator(\n",
        "            lambda b: phase_oracle(lambda x, res: check_block(x, res), b),\n",
        "            lambda b: block_encoding(data, b),\n",
        "            block,\n",
        "        ),\n",
        "    )\n",
        "\n",
        "\n",
        "@qfunc\n",
        "def main(data: Output[QNum], block: Output[QNum]):\n",
        "    allocate(2, block)\n",
        "\n",
        "    # initialize a random vector\n",
        "    np.random.seed(1)\n",
        "    amps = np.random.rand(4)\n",
        "    amps = (amps / np.linalg.norm(amps)).tolist()\n",
        "    prepare_amplitudes(amps, 0, data)\n",
        "\n",
        "    oblivious_amplitude_amplification(\n",
        "        1, lambda _block, _data: block_encode(PAULI_LIST, _block, _data), block, data\n",
        "    )\n",
        "\n",
        "\n",
        "qmod_2 = create_model(main)\n",
        "write_qmod(qmod_2, \"oblivious_amplitude_amplification\", decimal_precision=20)\n",
        "qprog_2 = synthesize(qmod_2)\n",
        "show(qprog_2)\n",
        "result_2 = execute(qprog_2).result_value()"
      ]
    },
    {
      "cell_type": "markdown",
      "id": "3f675fac-a3a1-4fe8-b737-df3764add355",
      "metadata": {
        "id": "3f675fac-a3a1-4fe8-b737-df3764add355"
      },
      "source": [
        "Print the \"good\" states:"
      ]
    },
    {
      "cell_type": "code",
      "execution_count": null,
      "id": "ce9f2a49-fc86-42bc-a619-e04e45d804db",
      "metadata": {
        "id": "ce9f2a49-fc86-42bc-a619-e04e45d804db",
        "outputId": "7e58488e-afcb-4f0b-e374-6833083fd80f"
      },
      "outputs": [
        {
          "name": "stdout",
          "output_type": "stream",
          "text": [
            "state={'data': 0.0, 'block': 0.0} shots=1330\n",
            "state={'data': 2.0, 'block': 0.0} shots=479\n",
            "state={'data': 1.0, 'block': 0.0} shots=239\n"
          ]
        }
      ],
      "source": [
        "block_sum_2 = sum([d.shots for d in result_2.parsed_counts if d.state[\"block\"] == 0])\n",
        "for d in result_2.parsed_counts:\n",
        "    if d.state[\"block\"] == 0:\n",
        "        print(d)"
      ]
    },
    {
      "cell_type": "code",
      "execution_count": null,
      "id": "1c4d23cf-dce1-4683-8b81-ff1ff3e15371",
      "metadata": {
        "id": "1c4d23cf-dce1-4683-8b81-ff1ff3e15371",
        "outputId": "0550597b-c82a-41b3-85e6-3c846d127b6d"
      },
      "outputs": [
        {
          "name": "stdout",
          "output_type": "stream",
          "text": [
            "Fraction of `good` states: 1.0\n"
          ]
        }
      ],
      "source": [
        "print(\"Fraction of `good` states:\", block_sum_2 / result_2.num_shots)\n",
        "assert block_sum_2 / result_2.num_shots == 1"
      ]
    },
    {
      "cell_type": "markdown",
      "id": "4ed86f90-23c7-4306-9301-420b9938db12",
      "metadata": {
        "id": "4ed86f90-23c7-4306-9301-420b9938db12"
      },
      "source": [
        "### Extending to the Case where $U$ is Non-unitary"
      ]
    },
    {
      "cell_type": "markdown",
      "id": "2c4bbee6-e8ce-45b5-b635-4124ac56bdf0",
      "metadata": {
        "id": "2c4bbee6-e8ce-45b5-b635-4124ac56bdf0"
      },
      "source": [
        "It was proven that when $U$ is close to unitary, it is still possible to amplify (using the same operators) and get a good approximation. This is termed \"Robust Oblivious Amplitude Amplification\" [[3](#ROAA)]. This is usually the case in Hamiltonian simulation when the LCU reprsents a truncated series which is only an approximation of the unitary $e^{-iHt}$."
      ]
    },
    {
      "cell_type": "markdown",
      "id": "5f315243-007f-4e07-a5f1-dacb81572c44",
      "metadata": {
        "editable": true,
        "tags": [],
        "id": "5f315243-007f-4e07-a5f1-dacb81572c44"
      },
      "source": [
        "## References\n",
        "\n",
        "<a name='AA'>[1]</a>: [Brassard, Gilles, et al. \"Quantum Amplitude Amplification and Estimation.\" arXiv preprint quant-ph/0005055 (2000).](https://citeseerx.ist.psu.edu/document?repid=rep1&type=pdf&doi=b5588e34d24e9a09c00a93b80af0581460aff464)\n",
        "\n",
        "<a name='OAA'>[2]</a>: [Berry, Dominic W., et al. \"Exponential improvement in precision for simulating sparse Hamiltonians.\" Proceedings of the forty-sixth annual ACM symposium on Theory of Computing. 2014.](https://dl.acm.org/doi/abs/10.1145/2591796.2591854)\n",
        "\n",
        "<a name='ROAA'>[3]</a>: [Berry, Dominic W., et al. \"Simulating Hamiltonian dynamics with a truncated Taylor series.\" Physical Review Letters 114.9 (2015): 090502.](https://journals.aps.org/prl/abstract/10.1103/PhysRevLett.114.090502)\n"
      ]
    }
  ],
  "metadata": {
    "kernelspec": {
      "display_name": "Python 3 (ipykernel)",
      "language": "python",
      "name": "python3"
    },
    "language_info": {
      "codemirror_mode": {
        "name": "ipython",
        "version": 3
      },
      "file_extension": ".py",
      "mimetype": "text/x-python",
      "name": "python",
      "nbconvert_exporter": "python",
      "pygments_lexer": "ipython3",
      "version": "3.11.4"
    },
    "colab": {
      "provenance": []
    }
  },
  "nbformat": 4,
  "nbformat_minor": 5
}